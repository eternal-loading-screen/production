{
 "cells": [
  {
   "cell_type": "markdown",
   "metadata": {},
   "source": [
    "# Working with parquet files\n",
    "\n",
    "## Objective\n",
    "\n",
    "+ In this assignment, we will use the data downloaded with the module `data_manager` to create features.\n",
    "\n",
    "(11 pts total)\n",
    "\n",
    "## Prerequisites\n",
    "\n",
    "+ This notebook assumes that price data is available to you in the environment variable `PRICE_DATA`. If you have not done so, then execute the notebook `01_materials/labs/2_data_engineering.ipynb` to create this data set.\n"
   ]
  },
  {
   "cell_type": "markdown",
   "metadata": {},
   "source": [
    "+ Load the environment variables using dotenv. (1 pt)"
   ]
  },
  {
   "cell_type": "code",
   "execution_count": 55,
   "metadata": {},
   "outputs": [
    {
     "name": "stdout",
     "output_type": "stream",
     "text": [
      "The dotenv extension is already loaded. To reload it, use:\n",
      "  %reload_ext dotenv\n"
     ]
    }
   ],
   "source": [
    "# Write your code below.\n",
    "\n",
    "%load_ext dotenv\n",
    "%dotenv "
   ]
  },
  {
   "cell_type": "code",
   "execution_count": 56,
   "metadata": {},
   "outputs": [],
   "source": [
    "import dask.dataframe as dd"
   ]
  },
  {
   "cell_type": "markdown",
   "metadata": {},
   "source": [
    "+ Load the environment variable `PRICE_DATA`.\n",
    "+ Use [glob](https://docs.python.org/3/library/glob.html) to find the path of all parquet files in the directory `PRICE_DATA`.\n",
    "\n",
    "(1pt)"
   ]
  },
  {
   "cell_type": "code",
   "execution_count": 63,
   "metadata": {},
   "outputs": [
    {
     "name": "stdout",
     "output_type": "stream",
     "text": [
      "../../05_src/data/prices/\n"
     ]
    }
   ],
   "source": [
    "import os\n",
    "from glob import glob\n",
    "\n",
    "# Write your code below.\n",
    "\n",
    "# the parquet files from the 02_data engineering.ipynb is not in the PRICE_DATA directory but in Price_DATA\n",
    "# that is why I'm not using PRICE_DATA\n",
    "Price_DATA = os.getenv(\"PRICE_DATA\")\n",
    "print(Price_DATA)  #  just to see the result\n",
    "# find all directories with a parquet files\n",
    "parquet_files = glob(os.path.join(Price_DATA, \"**/*.parquet\"), recursive = True)\n",
    "\n",
    "#dd_price = dd.read_parquet(parquet_files).set_index(\"ticker\")\n",
    "# Was > [] ; Now > ['../../05_src/data/temp\\\\parquet\\\\part.0.parquet',\n",
    "\n",
    "#print(parquet_files)\n",
    "\n",
    "#dd_price = dd.read_parquet(parquet_files).set_index(\"ticker\")"
   ]
  },
  {
   "cell_type": "markdown",
   "metadata": {},
   "source": [
    "For each ticker and using Dask, do the following:\n",
    "\n",
    "+ Add lags for variables Close and Adj_Close.\n",
    "+ Add returns based on Close:\n",
    "    \n",
    "    - `returns`: (Close / Close_lag_1) - 1\n",
    "\n",
    "+ Add the following range: \n",
    "\n",
    "    - `hi_lo_range`: this is the day's High minus Low.\n",
    "\n",
    "+ Assign the result to `dd_feat`.\n",
    "\n",
    "(4 pt)"
   ]
  },
  {
   "cell_type": "code",
   "execution_count": 66,
   "metadata": {},
   "outputs": [
    {
     "name": "stdout",
     "output_type": "stream",
     "text": [
      "             Date  Open  High   Low  Close  Adj Close    Volume   source  Year\n",
      "ticker                                                                        \n",
      "AAU    2005-12-20  1.62  1.64  1.60   1.63       1.63   14100.0  AAU.csv  2005\n",
      "AAU    2019-05-09  0.48  0.48  0.46   0.46       0.46  291800.0  AAU.csv  2019\n",
      "AAU    2019-05-10  0.47  0.47  0.46   0.47       0.47  126600.0  AAU.csv  2019\n",
      "AAU    2019-05-13  0.47  0.48  0.45   0.45       0.45  176800.0  AAU.csv  2019\n",
      "AAU    2017-01-03  0.98  1.09  0.97   1.01       1.01  294600.0  AAU.csv  2017\n"
     ]
    },
    {
     "name": "stderr",
     "output_type": "stream",
     "text": [
      "C:\\Users\\Work\\AppData\\Local\\Temp\\ipykernel_18504\\1430380639.py:17: UserWarning: `meta` is not specified, inferred from partial data. Please provide `meta` if the result is unexpected.\n",
      "  Before: .apply(func)\n",
      "  After:  .apply(func, meta={'x': 'f8', 'y': 'f8'}) for dataframe result\n",
      "  or:     .apply(func, meta=('x', 'f8'))            for series result\n",
      "  dd_feat = dd_price.groupby('ticker', group_keys=False).apply(\n"
     ]
    }
   ],
   "source": [
    "# Write your code below.\n",
    "dd_price = dd.read_parquet(parquet_files).set_index(\"ticker\")\n",
    "\n",
    "parquet_dir = os.path.join(Price_DATA, \"parquet\")\n",
    "\n",
    "print(dd_price .head() )\n",
    "\n",
    "# extra code from data engineering notebook\n",
    "#shutil.rmtree(parquet_dir, ignore_errors=True)\n",
    "#os.makedirs(parquet_dir, exist_ok=True)\n",
    "\n",
    "# Close Lag\n",
    "# https://www.youtube.com/watch?v=19SBiW2h888 > 1:15:25;\n",
    "\n",
    "# dd_feat\n",
    "\n",
    "dd_feat = dd_price.groupby('ticker', group_keys=False).apply(\n",
    "    # anonymous function\n",
    "    lambda x: x.assign(\n",
    "        # Close Lag\n",
    "        Close_lag_1 = x['Close'].shift(1),\n",
    "        # Adj_Close\n",
    "        Adj_Close = x['Close'] / x['Close'].shift(1),\n",
    "        # hi_lo_range\n",
    "        hi_lo_range = x[\"High\"] - x['Low'],\n",
    "        # Calculate the return\n",
    "        ticker_return = x['Close'] / x['Close'].shift(1) -1\n",
    "    )\n",
    ")\n",
    "\n",
    "\n",
    "\n"
   ]
  },
  {
   "cell_type": "code",
   "execution_count": 59,
   "metadata": {},
   "outputs": [],
   "source": [
    "# # DIagnostics \n",
    "\n",
    "# # Write your code below.\n",
    "# dd_price = dd.read_parquet(parquet_files).set_index(\"ticker\")\n",
    "\n",
    "# parquet_dir = os.path.join(Price_DATA, \"parquet\")\n",
    "\n",
    "# # print(parquet_dir) # ../../05_src/data/temp/parquet\n",
    "\n",
    "# print(dd_price .head() )"
   ]
  },
  {
   "cell_type": "markdown",
   "metadata": {},
   "source": [
    "+ Convert the Dask data frame to a pandas data frame. \n",
    "+ Add a new feature containing the moving average of `returns` using a window of 10 days. There are several ways to solve this task, a simple one uses `.rolling(10).mean()`.\n",
    "\n",
    "(3 pt)"
   ]
  },
  {
   "cell_type": "code",
   "execution_count": 67,
   "metadata": {},
   "outputs": [],
   "source": [
    "# Write your code below.\n",
    "\n",
    "# run the calculations b/c lazy exe > and convert it to a PD DF > and storing it in a separate variable\n",
    "Pd_dd_feat = dd_feat.compute()\n",
    "\n",
    "# to convert to DF > .transform or .apply\n",
    "#Pd_dd_feat = dd_feat.transform()\n"
   ]
  },
  {
   "cell_type": "code",
   "execution_count": null,
   "metadata": {},
   "outputs": [],
   "source": [
    "# separating so the compute() does not have to be re run each time\n",
    "\n",
    "# add a rolling avg (10) \n",
    "# cleaner to use .apply > Office hrs\n",
    "Pd_dd_feat = Pd_dd_feat.groupby('ticker', group_keys=False).apply(\n",
    "    lambda x: x.assign(\n",
    "        rolling_avg = x['ticker_return'].rolling(10).mean()\n",
    "    ))"
   ]
  },
  {
   "cell_type": "markdown",
   "metadata": {},
   "source": [
    "Please comment:\n",
    "\n",
    "+ Was it necessary to convert to pandas to calculate the moving average return?\n",
    "\n",
    "> It was not necessary to convert to a pandas dataframe. In fact the solution I used was to put the rolling average into the \"dd_feat\" dataframe after the fact because it was easier to do all the calculations at once.\n",
    "\n",
    "+ Would it have been better to do it in Dask? Why?\n",
    "\n",
    "> Performing the operations in Dask is better because I was able to \"centralize\" all my calculations into a single .assign() function. This would help my code to be more centralized and easier to maintain.\n",
    "\n",
    "(1 pt)"
   ]
  },
  {
   "cell_type": "markdown",
   "metadata": {},
   "source": [
    "## Criteria\n",
    "\n",
    "The [rubric](./assignment_1_rubric_clean.xlsx) contains the criteria for grading."
   ]
  },
  {
   "cell_type": "markdown",
   "metadata": {},
   "source": [
    "## Submission Information\n",
    "\n",
    "🚨 **Please review our [Assignment Submission Guide](https://github.com/UofT-DSI/onboarding/blob/main/onboarding_documents/submissions.md)** 🚨 for detailed instructions on how to format, branch, and submit your work. Following these guidelines is crucial for your submissions to be evaluated correctly.\n",
    "\n",
    "### Submission Parameters:\n",
    "* Submission Due Date: `HH:MM AM/PM - DD/MM/YYYY`\n",
    "* The branch name for your repo should be: `assignment-1`\n",
    "* What to submit for this assignment:\n",
    "    * This Jupyter Notebook (assignment_1.ipynb) should be populated and should be the only change in your pull request.\n",
    "* What the pull request link should look like for this assignment: `https://github.com/<your_github_username>/production/pull/<pr_id>`\n",
    "    * Open a private window in your browser. Copy and paste the link to your pull request into the address bar. Make sure you can see your pull request properly. This helps the technical facilitator and learning support staff review your submission easily.\n",
    "\n",
    "Checklist:\n",
    "- [ ] Created a branch with the correct naming convention.\n",
    "- [ ] Ensured that the repository is public.\n",
    "- [ ] Reviewed the PR description guidelines and adhered to them.\n",
    "- [ ] Verify that the link is accessible in a private browser window.\n",
    "\n",
    "If you encounter any difficulties or have questions, please don't hesitate to reach out to our team via our Slack at `#cohort-3-help`. Our Technical Facilitators and Learning Support staff are here to help you navigate any challenges."
   ]
  }
 ],
 "metadata": {
  "kernelspec": {
   "display_name": "dsi_participant",
   "language": "python",
   "name": "python3"
  },
  "language_info": {
   "codemirror_mode": {
    "name": "ipython",
    "version": 3
   },
   "file_extension": ".py",
   "mimetype": "text/x-python",
   "name": "python",
   "nbconvert_exporter": "python",
   "pygments_lexer": "ipython3",
   "version": "3.9.15"
  }
 },
 "nbformat": 4,
 "nbformat_minor": 2
}
